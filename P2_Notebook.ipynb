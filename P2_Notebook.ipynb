{
 "cells": [
  {
   "cell_type": "code",
   "execution_count": 1,
   "metadata": {
    "collapsed": false
   },
   "outputs": [],
   "source": [
    "import pandas as pd\n",
    "from ggplot import *\n"
   ]
  },
  {
   "cell_type": "code",
   "execution_count": 2,
   "metadata": {
    "collapsed": false,
    "scrolled": true
   },
   "outputs": [],
   "source": [
    "turnstile_weather = pd.read_csv('C:\\Users\\BrendanD\\Documents\\Courses\\Data Analyst Nanodegree\\P2\\\\turnstile_data_master_with_weather.csv')"
   ]
  },
  {
   "cell_type": "code",
   "execution_count": 3,
   "metadata": {
    "collapsed": false
   },
   "outputs": [
    {
     "name": "stdout",
     "output_type": "stream",
     "text": [
      "['Unnamed: 0' 'UNIT' 'DATEn' 'TIMEn' 'Hour' 'DESCn' 'ENTRIESn_hourly'\n",
      " 'EXITSn_hourly' 'maxpressurei' 'maxdewpti' 'mindewpti' 'minpressurei'\n",
      " 'meandewpti' 'meanpressurei' 'fog' 'rain' 'meanwindspdi' 'mintempi'\n",
      " 'meantempi' 'maxtempi' 'precipi' 'thunder']\n"
     ]
    }
   ],
   "source": [
    "print turnstile_weather.columns.values"
   ]
  },
  {
   "cell_type": "code",
   "execution_count": 18,
   "metadata": {
    "collapsed": false
   },
   "outputs": [],
   "source": [
    "plot = ggplot(aes(x='ENTRIESn_hourly',fill=str('rain')),data=turnstile_weather) + \\\n",
    "    geom_histogram(position=\"identity\",binwidth=200) + scale_x_continuous(limits=(0,7000)) + \\\n",
    "    xlab('HOURLY ENTRIES') + ylab('Frequency') + ggtitle('Histogram of Number of Hourly Entries Based on Rain')"
   ]
  },
  {
   "cell_type": "code",
   "execution_count": 19,
   "metadata": {
    "collapsed": false,
    "scrolled": true
   },
   "outputs": [
    {
     "name": "stderr",
     "output_type": "stream",
     "text": [
      "stat_bin: binwidth defaulted to range/30.\n",
      "    Use 'binwidth = x' to adjust this.\n"
     ]
    },
    {
     "data": {
      "text/plain": [
       "<ggplot: (41781876)>"
      ]
     },
     "execution_count": 19,
     "metadata": {},
     "output_type": "execute_result"
    }
   ],
   "source": [
    "plot"
   ]
  },
  {
   "cell_type": "code",
   "execution_count": 28,
   "metadata": {
    "collapsed": false
   },
   "outputs": [],
   "source": [
    "plot2 = ggplot(aes(x='Hour',y='ENTRIESn_hourly'),data=turnstile_weather) + \\\n",
    "    geom_bar(stat=\"bar\") + xlab('Hour of Day') + ylab('Hourly Entries') + ggtitle('Number of Hourly Entries vs. Hour of Day') + \\\n",
    "    scale_x_continuous(limits=(0,24,1))\n"
   ]
  },
  {
   "cell_type": "code",
   "execution_count": 29,
   "metadata": {
    "collapsed": false
   },
   "outputs": [
    {
     "data": {
      "text/plain": [
       "<ggplot: (52872480)>"
      ]
     },
     "execution_count": 29,
     "metadata": {},
     "output_type": "execute_result"
    }
   ],
   "source": [
    "plot2"
   ]
  },
  {
   "cell_type": "code",
   "execution_count": null,
   "metadata": {
    "collapsed": true
   },
   "outputs": [],
   "source": []
  }
 ],
 "metadata": {
  "kernelspec": {
   "display_name": "Python 2",
   "language": "python",
   "name": "python2"
  },
  "language_info": {
   "codemirror_mode": {
    "name": "ipython",
    "version": 2
   },
   "file_extension": ".py",
   "mimetype": "text/x-python",
   "name": "python",
   "nbconvert_exporter": "python",
   "pygments_lexer": "ipython2",
   "version": "2.7.10"
  }
 },
 "nbformat": 4,
 "nbformat_minor": 0
}
